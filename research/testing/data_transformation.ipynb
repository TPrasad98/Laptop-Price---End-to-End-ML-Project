{
 "cells": [
  {
   "cell_type": "code",
   "execution_count": 14,
   "metadata": {},
   "outputs": [],
   "source": [
    "import os"
   ]
  },
  {
   "cell_type": "code",
   "execution_count": 15,
   "metadata": {},
   "outputs": [],
   "source": [
    "os.chdir(\"../\")"
   ]
  },
  {
   "cell_type": "code",
   "execution_count": 16,
   "metadata": {},
   "outputs": [],
   "source": [
    "from dataclasses import dataclass\n",
    "from pathlib import Path\n",
    "\n",
    "\n",
    "@dataclass(frozen=True)\n",
    "class DataTransformationConfig:\n",
    "    root_dir: Path\n",
    "    data_path: Path\n",
    "    transformer_path:Path"
   ]
  },
  {
   "cell_type": "code",
   "execution_count": 17,
   "metadata": {},
   "outputs": [],
   "source": [
    "from mlProject.constants import *\n",
    "from mlProject.utils.common import read_yaml, create_directories"
   ]
  },
  {
   "cell_type": "code",
   "execution_count": 18,
   "metadata": {},
   "outputs": [],
   "source": [
    "class ConfigurationManager:\n",
    "    def __init__(\n",
    "        self,\n",
    "        config_filepath = CONFIG_FILE_PATH,\n",
    "        params_filepath = PARAMS_FILE_PATH,\n",
    "        schema_filepath = SCHEMA_FILE_PATH):\n",
    "\n",
    "        self.config = read_yaml(config_filepath)\n",
    "        self.params = read_yaml(params_filepath)\n",
    "        self.schema = read_yaml(schema_filepath)\n",
    "\n",
    "        create_directories([self.config.artifacts_root])\n",
    "\n",
    "\n",
    "    \n",
    "    def get_data_transformation_config(self) -> DataTransformationConfig:\n",
    "        config = self.config.data_transformation\n",
    "\n",
    "        create_directories([config.root_dir])\n",
    "\n",
    "        data_transformation_config = DataTransformationConfig(\n",
    "            root_dir=config.root_dir,\n",
    "            data_path=config.data_path,\n",
    "            transformer_path=config.transformer_path,\n",
    "        )\n",
    "\n",
    "        return data_transformation_config"
   ]
  },
  {
   "cell_type": "code",
   "execution_count": 19,
   "metadata": {},
   "outputs": [],
   "source": [
    "import os\n",
    "from mlProject import logger\n",
    "from sklearn.model_selection import train_test_split\n",
    "import pandas as pd\n",
    "from sklearn.pipeline import Pipeline\n",
    "from sklearn.compose import ColumnTransformer\n",
    "from sklearn.preprocessing import StandardScaler,OneHotEncoder"
   ]
  },
  {
   "cell_type": "code",
   "execution_count": 20,
   "metadata": {},
   "outputs": [],
   "source": [
    "class DataTransformation:\n",
    "    def __init__(self, config: DataTransformationConfig):\n",
    "        self.config = config\n",
    "\n",
    "    # I have done all advanced pre processing techniques in data validation step and validated data for next step\n",
    "    # here I am going to split the data and finally transform using columntransformer\n",
    "\n",
    "\n",
    "    def train_test_spliting(self):\n",
    "        data = pd.read_csv(self.config.data_path)\n",
    "\n",
    "        # Split the data into training and test sets.\n",
    "        X = data.drop('price',axis=1)\n",
    "        y = data['price']\n",
    "        x_train,x_test,y_train,y_test = train_test_split(X,y,test_size=0.2,random_state=42)\n",
    "        logger.info(\"Splited data into training and test sets\")\n",
    "        # logger.info(x_train.shape)\n",
    "        # logger.info(x_test.shape)\n",
    "        return x_train,x_test,y_train,y_test\n",
    "    \n",
    "    def transformation(self,x_train,x_test,y_train,y_test):\n",
    "        \n",
    "        cat_cols = ['brand', 'OS', 'gpu_type', 'processor_brand', 'processor_version']\n",
    "        cat_transformer = Pipeline(\n",
    "            steps=[\n",
    "                (\"encoder\", OneHotEncoder(sparse=False,drop='first',handle_unknown='ignore')),\n",
    "                (\"scaler\", StandardScaler()),\n",
    "                ]\n",
    "                )\n",
    "        num_cols = [ 'spec_rating', 'Ram', 'ROM', 'ROM_type', 'display_size',\n",
    "                    'resolution_width', 'resolution_height', 'warranty', 'cpu_core',\n",
    "                    'cpu_threads', 'processor_gen']\n",
    "        num_cat_transformer = Pipeline(\n",
    "            steps=[\n",
    "                # (\"encoder\", LabelEncoder()),\n",
    "                (\"scaler\", StandardScaler()),\n",
    "            ]\n",
    "        )\n",
    "\n",
    "        transformer = ColumnTransformer(\n",
    "            transformers=[\n",
    "                ('categorical_transformer',cat_transformer,cat_cols),\n",
    "                (\"numerical_transformer\",num_cat_transformer,num_cols)\n",
    "                ]\n",
    "                )\n",
    "        final_x_train = transformer.fit_transform(x_train)\n",
    "        logger.info(f'training data transformed, shape:{final_x_train.shape}')\n",
    "        final_x_test = transformer.transform(x_test)\n",
    "        logger.info(f'testing data transformed, shape:{final_x_test.shape}')\n",
    "\n",
    "        import joblib\n",
    "        joblib.dump(transformer, self.config.transformer_path)\n",
    "        logger.info(\"Transformer dumped at given location\")\n",
    "\n",
    "\n",
    "        return final_x_train,y_train,final_x_test,y_test\n",
    "        "
   ]
  },
  {
   "cell_type": "code",
   "execution_count": 21,
   "metadata": {},
   "outputs": [
    {
     "name": "stdout",
     "output_type": "stream",
     "text": [
      "[2023-12-10 19:49:15,874: INFO: common: yaml file: config\\config.yaml loaded successfully]\n",
      "[2023-12-10 19:49:15,877: INFO: common: yaml file: params.yaml loaded successfully]\n",
      "[2023-12-10 19:49:15,882: INFO: common: yaml file: schema.yaml loaded successfully]\n",
      "[2023-12-10 19:49:15,884: INFO: common: created directory at: artifacts]\n",
      "[2023-12-10 19:49:15,887: INFO: common: created directory at: artifacts/data_transformation]\n",
      "[2023-12-10 19:49:15,921: INFO: 4940772: Splited data into training and test sets]\n",
      "[2023-12-10 19:49:15,939: INFO: 4940772: training data transformed, shape:(714, 74)]\n",
      "[2023-12-10 19:49:15,948: INFO: 4940772: testing data transformed, shape:(179, 74)]\n",
      "[2023-12-10 19:49:15,953: INFO: 4940772: Transformer dumped at given location]\n"
     ]
    },
    {
     "name": "stderr",
     "output_type": "stream",
     "text": [
      "c:\\Users\\ten\\Desktop\\Laptop_Price\\venv\\lib\\site-packages\\sklearn\\preprocessing\\_encoders.py:975: FutureWarning: `sparse` was renamed to `sparse_output` in version 1.2 and will be removed in 1.4. `sparse_output` is ignored unless you leave `sparse` to its default value.\n",
      "  warnings.warn(\n",
      "c:\\Users\\ten\\Desktop\\Laptop_Price\\venv\\lib\\site-packages\\sklearn\\preprocessing\\_encoders.py:228: UserWarning: Found unknown categories in columns [0, 1, 4] during transform. These unknown categories will be encoded as all zeros\n",
      "  warnings.warn(\n"
     ]
    }
   ],
   "source": [
    "try:\n",
    "    config = ConfigurationManager()\n",
    "    data_transformation_config = config.get_data_transformation_config()\n",
    "    data_transformation = DataTransformation(config=data_transformation_config)\n",
    "    x_train,x_test,y_train,y_test = data_transformation.train_test_spliting()\n",
    "    data_transformation.transformation(x_train,x_test,y_train,y_test)\n",
    "except Exception as e:\n",
    "    raise e"
   ]
  },
  {
   "cell_type": "code",
   "execution_count": null,
   "metadata": {},
   "outputs": [],
   "source": []
  }
 ],
 "metadata": {
  "kernelspec": {
   "display_name": "venv",
   "language": "python",
   "name": "python3"
  },
  "language_info": {
   "codemirror_mode": {
    "name": "ipython",
    "version": 3
   },
   "file_extension": ".py",
   "mimetype": "text/x-python",
   "name": "python",
   "nbconvert_exporter": "python",
   "pygments_lexer": "ipython3",
   "version": "3.10.6"
  }
 },
 "nbformat": 4,
 "nbformat_minor": 2
}
